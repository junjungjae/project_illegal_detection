{
 "metadata": {
  "language_info": {
   "codemirror_mode": {
    "name": "ipython",
    "version": 3
   },
   "file_extension": ".py",
   "mimetype": "text/x-python",
   "name": "python",
   "nbconvert_exporter": "python",
   "pygments_lexer": "ipython3",
   "version": "3.8.5"
  },
  "orig_nbformat": 2,
  "kernelspec": {
   "name": "python385jvsc74a57bd08ac28a50454481c8021b20cdd3372e5712f4e59420db71c5a892411e049a0fe6",
   "display_name": "Python 3.8.5 64-bit ('base': conda)"
  }
 },
 "nbformat": 4,
 "nbformat_minor": 2,
 "cells": [
  {
   "source": [
    "# 결측치 대체 / 삭제\n",
    "\n",
    "- 명목형 변수들은 결측치를 'NaN' 이라는 문자열으로 대체 \n",
    "\n",
    "- 연속형 변수들은 주변 칼럼을 참조하여 최대한 추정, 해결 안된 결측치들은 평균 대체\n",
    "\n",
    "- int나 float값을 가지지만 명목 변수인 칼럼들도 존재, 이러한 칼럼들 수정\n",
    "\n",
    "- 이후 과정은 module을 사용하여 진행 (Preprocessing 모듈의 Preprocess 클래스 참조)"
   ],
   "cell_type": "markdown",
   "metadata": {}
  },
  {
   "cell_type": "code",
   "execution_count": 1,
   "metadata": {},
   "outputs": [],
   "source": [
    "def syspath(path) :\n",
    "    if path not in sys.path :\n",
    "        sys.path.append(path)\n",
    "    else : pass"
   ]
  },
  {
   "cell_type": "code",
   "execution_count": 2,
   "metadata": {},
   "outputs": [],
   "source": [
    "import numpy as np\n",
    "import pandas as pd\n",
    "import matplotlib.pyplot as plt\n",
    "import seaborn as sns\n",
    "import sys\n",
    "import warnings\n",
    "\n",
    "warnings.filterwarnings('ignore')"
   ]
  },
  {
   "cell_type": "code",
   "execution_count": 12,
   "metadata": {},
   "outputs": [],
   "source": [
    "syspath('./dataset/mod')\n",
    "\n",
    "from Preprocessing import Preprocess"
   ]
  },
  {
   "cell_type": "code",
   "execution_count": 3,
   "metadata": {},
   "outputs": [
    {
     "output_type": "execute_result",
     "data": {
      "text/plain": [
       "  IMP_TYPE_OF_DECLARATION_1 IMP_TYPE_OF_DECLARATION_2 TRD_TIN_2  \\\n",
       "0                        ИМ                       NaN       NaN   \n",
       "1                        ИМ                       NaN       NaN   \n",
       "2                        ИМ                       NaN       NaN   \n",
       "3                        ИМ                       NaN       NaN   \n",
       "4                        ИМ                       NaN       NaN   \n",
       "\n",
       "                                          TRD_NAME_2 TRD_COUNTRY_2  \\\n",
       "0                                   ООО ВИП-ТРАНС               RU   \n",
       "1                                   ООО ВИП-ТРАНС               RU   \n",
       "2                                   ООО ВИП-ТРАНС               RU   \n",
       "3  \" М/С АКИДЖ ДУТЕ МИЛЛС ЛТД\",Ч/З БАНДАР АБАС П/...            BD   \n",
       "4  \" М/С АКИДЖ ДУТЕ МИЛЛС ЛТД\",Ч/З БАНДАР АБАС П/...            BD   \n",
       "\n",
       "                                   TRD_ADDR_2 CUS_SHIPMENT_SPEC_4  \\\n",
       "0  НИЖНЕВАРТОВСК КУЗОВАТКИНА ДОМ 5 СТРОЕНИЕ 3                 NaN   \n",
       "1  НИЖНЕВАРТОВСК КУЗОВАТКИНА ДОМ 5 СТРОЕНИЕ 3                 NaN   \n",
       "2  НИЖНЕВАРТОВСК КУЗОВАТКИНА ДОМ 5 СТРОЕНИЕ 3                 NaN   \n",
       "3                                     АББАС                   NaN   \n",
       "4                                     АББАС                   NaN   \n",
       "\n",
       "   CUS_TOTAL_NUMBER_OF_ITEMS_5  CUS_TOTAL_NUMBER_OF_PACKAGES_6  \\\n",
       "0                            1                            64.0   \n",
       "1                            1                            64.0   \n",
       "2                            1                            64.0   \n",
       "3                            1                          1213.0   \n",
       "4                            1                          1213.0   \n",
       "\n",
       "            CUS_REF_NO_7  ...  PAM_FINANCIAL_VALUE_47  \\\n",
       "0  762235/140217/0000189  ...                  553.76   \n",
       "1  762235/140217/0000189  ...                17286.89   \n",
       "2  762235/140217/0000189  ...                62232.82   \n",
       "3  762241/140217/0100665  ...                  553.76   \n",
       "4  762241/140217/0100665  ...                 8662.33   \n",
       "\n",
       "  CAL_METHOD_OF_PAYMENT_47 IMP_DATE_OF_DECLARATION_54 REP_TIN_54  \\\n",
       "0                       БН                   20170214  510000091   \n",
       "1                       УН                   20170214  510000091   \n",
       "2                       БН                   20170214  510000091   \n",
       "3                       БН                   20170214  510000091   \n",
       "4                       УН                   20170214  510000091   \n",
       "\n",
       "                   PERSON_NAME_54 PERSON_POSITION_54 GEND_REFERENCE_54  \\\n",
       "0     ВАХОБОВ ШАВКАТ ТУРСУНБОЕВИЧ  СПЕЦИАЛИСТ ПО Т/О          СГ01/007   \n",
       "1     ВАХОБОВ ШАВКАТ ТУРСУНБОЕВИЧ  СПЕЦИАЛИСТ ПО Т/О          СГ01/007   \n",
       "2     ВАХОБОВ ШАВКАТ ТУРСУНБОЕВИЧ  СПЕЦИАЛИСТ ПО Т/О          СГ01/007   \n",
       "3  САЙФИЕВА МАВЗУНА ШАРИФДЖАНОВНА         СПЕЦИАЛИСТ        СГ/01/0077   \n",
       "4  САЙФИЕВА МАВЗУНА ШАРИФДЖАНОВНА         СПЕЦИАЛИСТ        СГ/01/0077   \n",
       "\n",
       "  GEND_ISSUE_DATE_54              ACCEPTANCE_DATE  LABEL  \n",
       "0         20150624.0  14.02.17 11:55:18,551000000      0  \n",
       "1         20150624.0  14.02.17 11:55:18,551000000      0  \n",
       "2         20150624.0  14.02.17 11:55:18,551000000      0  \n",
       "3         20150624.0  14.02.17 15:53:44,921000000      0  \n",
       "4         20150624.0  14.02.17 15:53:44,921000000      0  \n",
       "\n",
       "[5 rows x 74 columns]"
      ],
      "text/html": "<div>\n<style scoped>\n    .dataframe tbody tr th:only-of-type {\n        vertical-align: middle;\n    }\n\n    .dataframe tbody tr th {\n        vertical-align: top;\n    }\n\n    .dataframe thead th {\n        text-align: right;\n    }\n</style>\n<table border=\"1\" class=\"dataframe\">\n  <thead>\n    <tr style=\"text-align: right;\">\n      <th></th>\n      <th>IMP_TYPE_OF_DECLARATION_1</th>\n      <th>IMP_TYPE_OF_DECLARATION_2</th>\n      <th>TRD_TIN_2</th>\n      <th>TRD_NAME_2</th>\n      <th>TRD_COUNTRY_2</th>\n      <th>TRD_ADDR_2</th>\n      <th>CUS_SHIPMENT_SPEC_4</th>\n      <th>CUS_TOTAL_NUMBER_OF_ITEMS_5</th>\n      <th>CUS_TOTAL_NUMBER_OF_PACKAGES_6</th>\n      <th>CUS_REF_NO_7</th>\n      <th>...</th>\n      <th>PAM_FINANCIAL_VALUE_47</th>\n      <th>CAL_METHOD_OF_PAYMENT_47</th>\n      <th>IMP_DATE_OF_DECLARATION_54</th>\n      <th>REP_TIN_54</th>\n      <th>PERSON_NAME_54</th>\n      <th>PERSON_POSITION_54</th>\n      <th>GEND_REFERENCE_54</th>\n      <th>GEND_ISSUE_DATE_54</th>\n      <th>ACCEPTANCE_DATE</th>\n      <th>LABEL</th>\n    </tr>\n  </thead>\n  <tbody>\n    <tr>\n      <th>0</th>\n      <td>ИМ</td>\n      <td>NaN</td>\n      <td>NaN</td>\n      <td>ООО ВИП-ТРАНС</td>\n      <td>RU</td>\n      <td>НИЖНЕВАРТОВСК КУЗОВАТКИНА ДОМ 5 СТРОЕНИЕ 3</td>\n      <td>NaN</td>\n      <td>1</td>\n      <td>64.0</td>\n      <td>762235/140217/0000189</td>\n      <td>...</td>\n      <td>553.76</td>\n      <td>БН</td>\n      <td>20170214</td>\n      <td>510000091</td>\n      <td>ВАХОБОВ ШАВКАТ ТУРСУНБОЕВИЧ</td>\n      <td>СПЕЦИАЛИСТ ПО Т/О</td>\n      <td>СГ01/007</td>\n      <td>20150624.0</td>\n      <td>14.02.17 11:55:18,551000000</td>\n      <td>0</td>\n    </tr>\n    <tr>\n      <th>1</th>\n      <td>ИМ</td>\n      <td>NaN</td>\n      <td>NaN</td>\n      <td>ООО ВИП-ТРАНС</td>\n      <td>RU</td>\n      <td>НИЖНЕВАРТОВСК КУЗОВАТКИНА ДОМ 5 СТРОЕНИЕ 3</td>\n      <td>NaN</td>\n      <td>1</td>\n      <td>64.0</td>\n      <td>762235/140217/0000189</td>\n      <td>...</td>\n      <td>17286.89</td>\n      <td>УН</td>\n      <td>20170214</td>\n      <td>510000091</td>\n      <td>ВАХОБОВ ШАВКАТ ТУРСУНБОЕВИЧ</td>\n      <td>СПЕЦИАЛИСТ ПО Т/О</td>\n      <td>СГ01/007</td>\n      <td>20150624.0</td>\n      <td>14.02.17 11:55:18,551000000</td>\n      <td>0</td>\n    </tr>\n    <tr>\n      <th>2</th>\n      <td>ИМ</td>\n      <td>NaN</td>\n      <td>NaN</td>\n      <td>ООО ВИП-ТРАНС</td>\n      <td>RU</td>\n      <td>НИЖНЕВАРТОВСК КУЗОВАТКИНА ДОМ 5 СТРОЕНИЕ 3</td>\n      <td>NaN</td>\n      <td>1</td>\n      <td>64.0</td>\n      <td>762235/140217/0000189</td>\n      <td>...</td>\n      <td>62232.82</td>\n      <td>БН</td>\n      <td>20170214</td>\n      <td>510000091</td>\n      <td>ВАХОБОВ ШАВКАТ ТУРСУНБОЕВИЧ</td>\n      <td>СПЕЦИАЛИСТ ПО Т/О</td>\n      <td>СГ01/007</td>\n      <td>20150624.0</td>\n      <td>14.02.17 11:55:18,551000000</td>\n      <td>0</td>\n    </tr>\n    <tr>\n      <th>3</th>\n      <td>ИМ</td>\n      <td>NaN</td>\n      <td>NaN</td>\n      <td>\" М/С АКИДЖ ДУТЕ МИЛЛС ЛТД\",Ч/З БАНДАР АБАС П/...</td>\n      <td>BD</td>\n      <td>АББАС</td>\n      <td>NaN</td>\n      <td>1</td>\n      <td>1213.0</td>\n      <td>762241/140217/0100665</td>\n      <td>...</td>\n      <td>553.76</td>\n      <td>БН</td>\n      <td>20170214</td>\n      <td>510000091</td>\n      <td>САЙФИЕВА МАВЗУНА ШАРИФДЖАНОВНА</td>\n      <td>СПЕЦИАЛИСТ</td>\n      <td>СГ/01/0077</td>\n      <td>20150624.0</td>\n      <td>14.02.17 15:53:44,921000000</td>\n      <td>0</td>\n    </tr>\n    <tr>\n      <th>4</th>\n      <td>ИМ</td>\n      <td>NaN</td>\n      <td>NaN</td>\n      <td>\" М/С АКИДЖ ДУТЕ МИЛЛС ЛТД\",Ч/З БАНДАР АБАС П/...</td>\n      <td>BD</td>\n      <td>АББАС</td>\n      <td>NaN</td>\n      <td>1</td>\n      <td>1213.0</td>\n      <td>762241/140217/0100665</td>\n      <td>...</td>\n      <td>8662.33</td>\n      <td>УН</td>\n      <td>20170214</td>\n      <td>510000091</td>\n      <td>САЙФИЕВА МАВЗУНА ШАРИФДЖАНОВНА</td>\n      <td>СПЕЦИАЛИСТ</td>\n      <td>СГ/01/0077</td>\n      <td>20150624.0</td>\n      <td>14.02.17 15:53:44,921000000</td>\n      <td>0</td>\n    </tr>\n  </tbody>\n</table>\n<p>5 rows × 74 columns</p>\n</div>"
     },
     "metadata": {},
     "execution_count": 3
    }
   ],
   "source": [
    "# 중복만 없앤 원본 데이터 불러오기\n",
    "df_origin = pd.read_pickle('./dataset/00_feature_with_label.pkl')\n",
    "df_origin.head()"
   ]
  },
  {
   "cell_type": "code",
   "execution_count": 4,
   "metadata": {},
   "outputs": [],
   "source": [
    "# 전체 null값 개수와 그 중 LABEL 1인 것들의 개수를 출력하는 함수 생성\n",
    "def get_result(column_name) :\n",
    "    mask1 = df_origin['{}'.format(column_name)].isnull()\n",
    "    tmp_df = df_origin[mask1]\n",
    "    mask2 = tmp_df.LABEL == 1\n",
    "    \n",
    "    print('##### {} #####'.format(column_name))\n",
    "    print('Number of null : {}'.format(len(tmp_df)))\n",
    "    print('Label 1 null : {}'.format(len(tmp_df[mask2])))\n",
    "    return tmp_df"
   ]
  },
  {
   "cell_type": "code",
   "execution_count": 5,
   "metadata": {},
   "outputs": [
    {
     "output_type": "stream",
     "name": "stdout",
     "text": [
      "##### CUS_TOTAL_NUMBER_OF_PACKAGES_6 #####\nNumber of null : 151\nLabel 1 null : 0\n##### VAL_FINANCIAL_VALUE_12 #####\nNumber of null : 56\nLabel 1 null : 0\n##### TOT_FINANCIAL_VALUE_22 #####\nNumber of null : 87\nLabel 1 null : 0\n##### IMP_EXCHANGE_RATE_23 #####\nNumber of null : 11704\nLabel 1 null : 0\n##### IMP_INLAND_TRANSPORT_MODE_25 #####\nNumber of null : 847\nLabel 1 null : 0\n##### IMP_TRANSPORT_MODE_AT_BODR_26 #####\nNumber of null : 1020\nLabel 1 null : 0\n##### GDS_GROSS_MASS_35 #####\nNumber of null : 567\nLabel 1 null : 0\n##### IDG_NET_MASS_38 #####\nNumber of null : 590\nLabel 1 null : 0\n##### FIN_FINANCIAL_VALUE_42 #####\nNumber of null : 162\nLabel 1 null : 0\n##### STC_FINANCIAL_VALUE_46 #####\nNumber of null : 17\nLabel 1 null : 0\n"
     ]
    }
   ],
   "source": [
    "# 연속형 변수들을 함수에 대입하여 전체 null값 개수와 그 중 LABEL이 1인 것들의 개수를 확인\n",
    "\n",
    "columns =  ['CUS_TOTAL_NUMBER_OF_PACKAGES_6', 'VAL_FINANCIAL_VALUE_12',\n",
    "            'TOT_FINANCIAL_VALUE_22', 'IMP_EXCHANGE_RATE_23',\n",
    "            'IMP_INLAND_TRANSPORT_MODE_25', 'IMP_TRANSPORT_MODE_AT_BODR_26',\n",
    "            'GDS_GROSS_MASS_35', 'IDG_NET_MASS_38', 'FIN_FINANCIAL_VALUE_42',\n",
    "            'STC_FINANCIAL_VALUE_46']\n",
    "\n",
    "for column in columns : \n",
    "    get_result(column)\n",
    "\n",
    "# 결과를 살펴보면 label = 1인 null값은 한개도 없음\n",
    "# 따라서 null값의 수가 많은 column들(500개 이상)만 대체 고려,"
   ]
  },
  {
   "source": [
    "## IMP_EXCHANGE_RATE_23\n",
    "- TOT_CURRENCY_22 = TJS 인 sample은 null값을 1로 대체 (자국 화폐이므로)"
   ],
   "cell_type": "markdown",
   "metadata": {}
  },
  {
   "cell_type": "code",
   "execution_count": 7,
   "metadata": {},
   "outputs": [
    {
     "output_type": "execute_result",
     "data": {
      "text/plain": [
       "array([1.])"
      ]
     },
     "metadata": {},
     "execution_count": 7
    }
   ],
   "source": [
    "mask = (df_origin.TOT_CURRENCY_22 == 'TJS') & (df_origin.IMP_EXCHANGE_RATE_23.isnull())\n",
    "idx = df_origin[mask].index\n",
    "for i in idx :\n",
    "    df_origin.iloc[i, 32] = 1\n",
    "df_origin[mask]['IMP_EXCHANGE_RATE_23'].unique()"
   ]
  },
  {
   "source": [
    "## IMP_INLAND_TRANSPORT_MODE_25, IMP_TRANSPORT_MODE_AT_BODR_26"
   ],
   "cell_type": "markdown",
   "metadata": {}
  },
  {
   "cell_type": "code",
   "execution_count": 6,
   "metadata": {},
   "outputs": [
    {
     "output_type": "stream",
     "name": "stdout",
     "text": [
      "[20. 30. 40. 90. nan 50. 70. 80. 10. 18. 23.]\n[20. 30. 40. 90. nan 50. 70. 23. 80. 10.]\n"
     ]
    }
   ],
   "source": [
    "# 출력값에서 볼 수 있듯이 이 둘은 float값을 지니고 있지만 사실상 명목 변수\n",
    "print(df_origin.IMP_INLAND_TRANSPORT_MODE_25.unique())\n",
    "print(df_origin.IMP_TRANSPORT_MODE_AT_BODR_26.unique())"
   ]
  },
  {
   "cell_type": "code",
   "execution_count": 8,
   "metadata": {},
   "outputs": [
    {
     "output_type": "stream",
     "name": "stdout",
     "text": [
      "[20 30 40 90  0 50 70 80 10 18 23]\n",
      "[20 30 40 90  0 50 70 23 80 10]\n"
     ]
    }
   ],
   "source": [
    "# null값 0으로 대체 후 int로 변환\n",
    "for column in ['IMP_INLAND_TRANSPORT_MODE_25', 'IMP_TRANSPORT_MODE_AT_BODR_26'] :\n",
    "    df_origin['{}'.format(column)].fillna(0, inplace=True)\n",
    "    df_origin['{}'.format(column)] = df_origin['{}'.format(column)].astype(int)\n",
    "    print(df_origin['{}'.format(column)].unique())"
   ]
  },
  {
   "source": [
    "## GDS_GROSS_MASS_35, IDG_NET_MASS_38"
   ],
   "cell_type": "markdown",
   "metadata": {}
  },
  {
   "cell_type": "code",
   "execution_count": 9,
   "metadata": {},
   "outputs": [
    {
     "output_type": "execute_result",
     "data": {
      "text/plain": [
       "         COM_COMBINED_NOMENCLATURE_33  GDS_GROSS_MASS_35  IDG_NET_MASS_38\n",
       "0                          4410110009           128000.0         121145.0\n",
       "1                          4410110009           128000.0         121145.0\n",
       "2                          4410110009           128000.0         121145.0\n",
       "3                          5307200000            46640.0          45000.0\n",
       "4                          5307200000            46640.0          45000.0\n",
       "...                               ...                ...              ...\n",
       "2148121                    8703239013             1610.0           1610.0\n",
       "2148122                    8703239013             1610.0           1610.0\n",
       "2148123                    4011990000              204.0            204.0\n",
       "2148124                    4011990000              204.0            204.0\n",
       "2148125                    9018908409              600.0            600.0\n",
       "\n",
       "[2148126 rows x 3 columns]"
      ],
      "text/html": "<div>\n<style scoped>\n    .dataframe tbody tr th:only-of-type {\n        vertical-align: middle;\n    }\n\n    .dataframe tbody tr th {\n        vertical-align: top;\n    }\n\n    .dataframe thead th {\n        text-align: right;\n    }\n</style>\n<table border=\"1\" class=\"dataframe\">\n  <thead>\n    <tr style=\"text-align: right;\">\n      <th></th>\n      <th>COM_COMBINED_NOMENCLATURE_33</th>\n      <th>GDS_GROSS_MASS_35</th>\n      <th>IDG_NET_MASS_38</th>\n    </tr>\n  </thead>\n  <tbody>\n    <tr>\n      <th>0</th>\n      <td>4410110009</td>\n      <td>128000.0</td>\n      <td>121145.0</td>\n    </tr>\n    <tr>\n      <th>1</th>\n      <td>4410110009</td>\n      <td>128000.0</td>\n      <td>121145.0</td>\n    </tr>\n    <tr>\n      <th>2</th>\n      <td>4410110009</td>\n      <td>128000.0</td>\n      <td>121145.0</td>\n    </tr>\n    <tr>\n      <th>3</th>\n      <td>5307200000</td>\n      <td>46640.0</td>\n      <td>45000.0</td>\n    </tr>\n    <tr>\n      <th>4</th>\n      <td>5307200000</td>\n      <td>46640.0</td>\n      <td>45000.0</td>\n    </tr>\n    <tr>\n      <th>...</th>\n      <td>...</td>\n      <td>...</td>\n      <td>...</td>\n    </tr>\n    <tr>\n      <th>2148121</th>\n      <td>8703239013</td>\n      <td>1610.0</td>\n      <td>1610.0</td>\n    </tr>\n    <tr>\n      <th>2148122</th>\n      <td>8703239013</td>\n      <td>1610.0</td>\n      <td>1610.0</td>\n    </tr>\n    <tr>\n      <th>2148123</th>\n      <td>4011990000</td>\n      <td>204.0</td>\n      <td>204.0</td>\n    </tr>\n    <tr>\n      <th>2148124</th>\n      <td>4011990000</td>\n      <td>204.0</td>\n      <td>204.0</td>\n    </tr>\n    <tr>\n      <th>2148125</th>\n      <td>9018908409</td>\n      <td>600.0</td>\n      <td>600.0</td>\n    </tr>\n  </tbody>\n</table>\n<p>2148126 rows × 3 columns</p>\n</div>"
     },
     "metadata": {},
     "execution_count": 9
    }
   ],
   "source": [
    "# 해당하는 칼럼들만 추출하여 DataFrame 생성\n",
    "edf = df_origin[['COM_COMBINED_NOMENCLATURE_33','GDS_GROSS_MASS_35', 'IDG_NET_MASS_38']]\n",
    "edf"
   ]
  },
  {
   "cell_type": "code",
   "execution_count": 10,
   "metadata": {},
   "outputs": [],
   "source": [
    "# null값 대체를 위한 사용자 함수 생성\n",
    "\n",
    "def translation(column_name) :\n",
    "\n",
    "  # 해당 칼럼의 null값이 있는 샘플만 인덱싱하여 해당 샘플의 인덱스와 HS-CODE를 리스트로 저장 \n",
    "  mask = edf[column_name].isnull()\n",
    "  idx_list = edf[mask].index.tolist()\n",
    "  hs_list = edf[mask]['COM_COMBINED_NOMENCLATURE_33'].unique().tolist()\n",
    "\n",
    "  # HS-CODE별로 GDS_GROSS_MASS_35, IDG_NET_MASS_38의 평균 산출 후 dictionary 생성 \n",
    "  mean_list = []\n",
    "  for code in hs_list :\n",
    "    mask = edf['COM_COMBINED_NOMENCLATURE_33'] == code\n",
    "    mean = edf[mask][column_name].mean()\n",
    "    mean_list.append(mean)\n",
    "  mean_dict = dict(zip(hs_list, mean_list))\n",
    "\n",
    "  # dictionary를 사용하여 null값 대체 \n",
    "  for i in idx_list :\n",
    "    val = edf.iloc[i, 0]\n",
    "    if column_name == 'GDS_GROSS_MASS_35' :\n",
    "      edf.iloc[i, 1] = mean_dict[val]\n",
    "    elif column_name == 'IDG_NET_MASS_38' :\n",
    "      edf.iloc[i, 2] = mean_dict[val]\n",
    "\n",
    "for column in ['GDS_GROSS_MASS_35', 'IDG_NET_MASS_38'] :\n",
    "  translation(column)\n",
    "\n",
    "for column in ['GDS_GROSS_MASS_35', 'IDG_NET_MASS_38'] :\n",
    "  df_origin[column] = edf[column]"
   ]
  },
  {
   "cell_type": "code",
   "execution_count": 11,
   "metadata": {},
   "outputs": [
    {
     "output_type": "stream",
     "name": "stdout",
     "text": [
      "##### CUS_TOTAL_NUMBER_OF_PACKAGES_6 #####\nNumber of null : 151\nLabel 1 null : 0\n##### VAL_FINANCIAL_VALUE_12 #####\nNumber of null : 56\nLabel 1 null : 0\n##### TOT_FINANCIAL_VALUE_22 #####\nNumber of null : 87\nLabel 1 null : 0\n##### IMP_EXCHANGE_RATE_23 #####\nNumber of null : 58\nLabel 1 null : 0\n##### IMP_INLAND_TRANSPORT_MODE_25 #####\nNumber of null : 0\nLabel 1 null : 0\n##### IMP_TRANSPORT_MODE_AT_BODR_26 #####\nNumber of null : 0\nLabel 1 null : 0\n##### GDS_GROSS_MASS_35 #####\nNumber of null : 12\nLabel 1 null : 0\n##### IDG_NET_MASS_38 #####\nNumber of null : 12\nLabel 1 null : 0\n##### FIN_FINANCIAL_VALUE_42 #####\nNumber of null : 162\nLabel 1 null : 0\n##### STC_FINANCIAL_VALUE_46 #####\nNumber of null : 17\nLabel 1 null : 0\n"
     ]
    }
   ],
   "source": [
    "# null값이 100개 대로 줄어든 것을 확인 가능\n",
    "columns =  ['CUS_TOTAL_NUMBER_OF_PACKAGES_6', 'VAL_FINANCIAL_VALUE_12',\n",
    "            'TOT_FINANCIAL_VALUE_22', 'IMP_EXCHANGE_RATE_23',\n",
    "            'IMP_INLAND_TRANSPORT_MODE_25', 'IMP_TRANSPORT_MODE_AT_BODR_26',\n",
    "            'GDS_GROSS_MASS_35', 'IDG_NET_MASS_38', 'FIN_FINANCIAL_VALUE_42',\n",
    "            'STC_FINANCIAL_VALUE_46']\n",
    "\n",
    "for column in columns : \n",
    "    get_result(column)"
   ]
  },
  {
   "cell_type": "code",
   "execution_count": 13,
   "metadata": {},
   "outputs": [
    {
     "output_type": "execute_result",
     "data": {
      "text/plain": [
       "TRD_NAME_2                        0\n",
       "TRD_COUNTRY_2                     0\n",
       "TRD_ADDR_2                        0\n",
       "CUS_TOTAL_NUMBER_OF_ITEMS_5       0\n",
       "CUS_TOTAL_NUMBER_OF_PACKAGES_6    0\n",
       "CUS_REF_NO_7                      0\n",
       "CON_TIN_8                         0\n",
       "CON_NAME_8                        0\n",
       "CON_COUNTRY_8                     0\n",
       "CON_ADDR_8                        0\n",
       "IMP_TRADING_COUNTRY_11            0\n",
       "VAL_FINANCIAL_VALUE_12            0\n",
       "VAL_CURRENCY_12                   0\n",
       "IMP_CNT_OF_DISPATCH_EXP_CD_15     0\n",
       "IMP_COUNTRY_OF_ORIGIN_16          0\n",
       "DEL_DELIVERY_TERM_CODE_20         0\n",
       "DEL_PLACE_OF_DELIVERY_20          0\n",
       "TOT_CURRENCY_22                   0\n",
       "TOT_FINANCIAL_VALUE_22            0\n",
       "IMP_EXCHANGE_RATE_23              0\n",
       "IMP_INLAND_TRANSPORT_MODE_25      0\n",
       "IMP_TRANSPORT_MODE_AT_BODR_26     0\n",
       "OFF_CODE_30                       0\n",
       "GDS_GOODS_DESCRIPTION_31          0\n",
       "GDS_ITEM_NUMBER_32                0\n",
       "COM_COMBINED_NOMENCLATURE_33      0\n",
       "IDG_COUNTRY_OF_ORIGIN_34          0\n",
       "GDS_GROSS_MASS_35                 0\n",
       "PRF_PREFERENCE_CODE_1             0\n",
       "PRF_PREFERENCE_CODE_2             0\n",
       "PRF_PREFERENCE_CODE_3             0\n",
       "PRF_PREFERENCE_CODE_4             0\n",
       "IDG_PROCEDURE_REQUESTED_37        0\n",
       "IDG_PREVIOUS_PROCEDURE_37         0\n",
       "IDG_ADD_NATIONAL_PROC_37          0\n",
       "IDG_NET_MASS_38                   0\n",
       "FIN_FINANCIAL_VALUE_42            0\n",
       "COR_FINANCIAL_VALUE               0\n",
       "COR_CURRENCY                      0\n",
       "STC_FINANCIAL_VALUE_46            0\n",
       "CAL_TYPE_OF_TAX_47                0\n",
       "CAL_TAX_BASE_47                   0\n",
       "CAL_RATE_OF_TAX_47                0\n",
       "CAL_ADDITIONAL_RATE_OF_TAX_47     0\n",
       "PAM_FINANCIAL_VALUE_47            0\n",
       "CAL_METHOD_OF_PAYMENT_47          0\n",
       "IMP_DATE_OF_DECLARATION_54        0\n",
       "REP_TIN_54                        0\n",
       "PERSON_NAME_54                    0\n",
       "GEND_REFERENCE_54                 0\n",
       "GEND_ISSUE_DATE_54                0\n",
       "ACCEPTANCE_DATE                   0\n",
       "LABEL                             0\n",
       "dtype: int64"
      ]
     },
     "metadata": {},
     "execution_count": 13
    }
   ],
   "source": [
    "# 나머지 null값은 이전과 같이 평균 대체 진행\n",
    "pre_df_origin = Preprocess(df_origin)\n",
    "basic_feature_df = pre_df_origin.null_solution()\n",
    "basic_feature_df.isnull().sum()\n",
    "\n",
    "# 결측값이 모두 제거된 것을 확인 가능"
   ]
  },
  {
   "cell_type": "code",
   "execution_count": null,
   "metadata": {},
   "outputs": [],
   "source": [
    "# 결측값 제거된 DataFrame을 pickle 파일로 저장\n",
    "basic_feature_df.to_pickle('./dataset/20_basic_feature_df.pkl')"
   ]
  }
 ]
}